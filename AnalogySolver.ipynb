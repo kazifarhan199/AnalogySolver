{
 "cells": [
  {
   "cell_type": "code",
   "execution_count": 1,
   "metadata": {},
   "outputs": [],
   "source": [
    "import numpy as np\n",
    "import pandas as pd"
   ]
  },
  {
   "cell_type": "code",
   "execution_count": 5,
   "metadata": {},
   "outputs": [],
   "source": [
    "def solve_analogy_problem(w1, w2, w3):\n",
    "    \"\"\"\n",
    "        This function solves the analogy and returns top 10 picks for the answer\n",
    "        The analogy will be of the type\n",
    "            A {w1} to a {w2} as a {w3} is to a {?}\n",
    "\n",
    "        INPUT:\n",
    "            w1 - First word\n",
    "            w2 - second word\n",
    "            w3 - third word\n",
    "        OUTPUT:\n",
    "            results - A list of tuples where 1st element is the word and 2nd element is the confidance\n",
    "                [(word, rating), (word, rating),....]\n",
    "    \"\"\"\n",
    "\n",
    "    glove = pd.read_csv('glove.6B.100d.txt', sep=\" \", quoting=3, header=None, index_col=0)\n",
    "\n",
    "    def similarity(a, b):\n",
    "        return np.dot(a, b)/(np.linalg.norm(a)*np.linalg.norm(b))\n",
    "\n",
    "    try:\n",
    "        g_w1 = glove.loc[w1].values\n",
    "    except:\n",
    "        return [f\"Sorry we do not have the word {w1} in out word list\", ]\n",
    "    try:\n",
    "        g_w2 = glove.loc[w2].values\n",
    "    except:\n",
    "        return [f\"Sorry we do not have the word {w2} in out word list\", ]\n",
    "    try:\n",
    "        g_w3 = glove.loc[w3].values\n",
    "    except:\n",
    "        return [f\"Sorry we do not have the word {w3} in out word list\", ]\n",
    "    \n",
    "    est = g_w2 -  g_w1 + g_w3\n",
    "\n",
    "    val = np.array([similarity(est, value) for value in glove.values])\n",
    "\n",
    "    results = []\n",
    "    s = np.sort(val)[::-1]\n",
    "    for i in range(5):\n",
    "        v = s[i]\n",
    "        results.append((glove.index[list(val).index(v)], v),)\n",
    "    \n",
    "    return results"
   ]
  },
  {
   "cell_type": "code",
   "execution_count": 7,
   "metadata": {},
   "outputs": [
    {
     "data": {
      "text/plain": [
       "[('woman', 0.8039792969711613),\n",
       " ('man', 0.7791377647251082),\n",
       " ('girl', 0.734934631768749),\n",
       " ('she', 0.681795212481104),\n",
       " ('her', 0.6592201916194682)]"
      ]
     },
     "execution_count": 7,
     "metadata": {},
     "output_type": "execute_result"
    }
   ],
   "source": [
    "w1 = \"king\"\n",
    "w2 = \"man\"\n",
    "w3 = \"queen\"\n",
    "solve_analogy_problem(w1, w2, w3)"
   ]
  }
 ],
 "metadata": {
  "kernelspec": {
   "display_name": "env",
   "language": "python",
   "name": "python3"
  },
  "language_info": {
   "codemirror_mode": {
    "name": "ipython",
    "version": 3
   },
   "file_extension": ".py",
   "mimetype": "text/x-python",
   "name": "python",
   "nbconvert_exporter": "python",
   "pygments_lexer": "ipython3",
   "version": "3.8.8"
  },
  "orig_nbformat": 4,
  "vscode": {
   "interpreter": {
    "hash": "3f20dfc1d242047c2007c9cb03273bdbc62ca2be5290e864262286e783aacca5"
   }
  }
 },
 "nbformat": 4,
 "nbformat_minor": 2
}
